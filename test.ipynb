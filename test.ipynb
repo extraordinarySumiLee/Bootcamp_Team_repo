{
 "cells": [
  {
   "cell_type": "markdown",
   "id": "0a1b8ef0",
   "metadata": {},
   "source": [
    "# 테스트 파일입니다."
   ]
  },
  {
   "cell_type": "code",
   "execution_count": null,
   "id": "fd4636a9",
   "metadata": {},
   "outputs": [],
   "source": []
  }
 ],
 "metadata": {
  "language_info": {
   "name": "python"
  }
 },
 "nbformat": 4,
 "nbformat_minor": 5
}
